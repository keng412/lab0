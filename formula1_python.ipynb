{
 "cells": [
  {
   "cell_type": "code",
   "execution_count": 35,
   "id": "94c914ac-3bcc-4ec9-9982-5d5d2ca3bbfb",
   "metadata": {},
   "outputs": [],
   "source": [
    "import fastf1 as ff1\n"
   ]
  },
  {
   "cell_type": "code",
   "execution_count": 50,
   "id": "65fcc139-41b2-4adf-8d78-74d102dac396",
   "metadata": {},
   "outputs": [
    {
     "name": "stderr",
     "output_type": "stream",
     "text": [
      "core           INFO \tLoading data for Abu Dhabi Grand Prix - Race [v3.2.0]\n",
      "req            INFO \tUsing cached data for session_info\n",
      "req            INFO \tUsing cached data for driver_info\n",
      "req            INFO \tUsing cached data for session_status_data\n",
      "req            INFO \tUsing cached data for lap_count\n",
      "req            INFO \tUsing cached data for track_status_data\n",
      "req            INFO \tUsing cached data for _extended_timing_data\n",
      "req            INFO \tUsing cached data for timing_app_data\n",
      "core           INFO \tProcessing timing data...\n",
      "req            INFO \tUsing cached data for car_data\n",
      "req            INFO \tUsing cached data for position_data\n",
      "req            INFO \tUsing cached data for weather_data\n",
      "req            INFO \tUsing cached data for race_control_messages\n",
      "core           INFO \tFinished loading data for 20 drivers: ['1', '16', '63', '11', '4', '81', '14', '22', '44', '18', '3', '31', '10', '23', '27', '2', '24', '55', '77', '20']\n"
     ]
    },
    {
     "name": "stdout",
     "output_type": "stream",
     "text": [
      "Session Info: {'Meeting': {'Key': 1226, 'Name': 'Abu Dhabi Grand Prix', 'OfficialName': 'FORMULA 1 ETIHAD AIRWAYS ABU DHABI GRAND PRIX 2023 ', 'Location': 'Yas Island', 'Country': {'Key': 21, 'Code': 'UAE', 'Name': 'United Arab Emirates'}, 'Circuit': {'Key': 70, 'ShortName': 'Yas Marina Circuit'}}, 'ArchiveStatus': {'Status': 'Generating'}, 'Key': 9197, 'Type': 'Race', 'Name': 'Race', 'StartDate': datetime.datetime(2023, 11, 26, 17, 0), 'EndDate': datetime.datetime(2023, 11, 26, 19, 0), 'GmtOffset': datetime.timedelta(seconds=14400), 'Path': '2023/2023-11-26_Abu_Dhabi_Grand_Prix/2023-11-26_Race/'}\n",
      "An error occurred: 'Session' object has no attribute 'load_laps'\n"
     ]
    }
   ],
   "source": [
    "def analyze_last_year():\n",
    "    # Set the season and round for the last year\n",
    "    year = 2023  # Replace with the desired year\n",
    "    round_number = 22  # Replace with the desired round number\n",
    "\n",
    "    try:\n",
    "        # Load the data for the specified race\n",
    "        session = ff1.get_session(year, round_number, 'R')\n",
    "        session.load()\n",
    "\n",
    "        # Access various information\n",
    "        race_info = session.session_info\n",
    "        print(f\"Session Info: {race_info}\")\n",
    "\n",
    "        # Get lap times\n",
    "        laps = session.load_laps()\n",
    "        print(\"\\nLap Times:\")\n",
    "        print(laps[['LapNumber', 'Time', 'PositionOrder']].to_string(index=False))\n",
    "\n",
    "        # Get qualifying results\n",
    "        quali = session.load_qualifying_data()\n",
    "        print(\"\\nQualifying Results:\")\n",
    "        print(quali[['Driver', 'Q1', 'Q2', 'Q3']].to_string(index=False))\n",
    "\n",
    "        # Get race results\n",
    "        race_results = session.load_full_classification()\n",
    "        print(\"\\nRace Results:\")\n",
    "        print(race_results[['PositionOrder', 'Driver', 'Time', 'Laps', 'Points']].to_string(index=False))\n",
    "\n",
    "    except Exception as e:\n",
    "        print(f\"An error occurred: {e}\")\n",
    "\n",
    "if __name__ == \"__main__\":\n",
    "    analyze_last_year()\n"
   ]
  },
  {
   "cell_type": "code",
   "execution_count": null,
   "id": "4e1feec6-bdf9-495d-82cf-2bba9aeb4b87",
   "metadata": {},
   "outputs": [],
   "source": []
  }
 ],
 "metadata": {
  "kernelspec": {
   "display_name": "Python 3 (ipykernel)",
   "language": "python",
   "name": "python3"
  },
  "language_info": {
   "codemirror_mode": {
    "name": "ipython",
    "version": 3
   },
   "file_extension": ".py",
   "mimetype": "text/x-python",
   "name": "python",
   "nbconvert_exporter": "python",
   "pygments_lexer": "ipython3",
   "version": "3.12.1"
  }
 },
 "nbformat": 4,
 "nbformat_minor": 5
}
